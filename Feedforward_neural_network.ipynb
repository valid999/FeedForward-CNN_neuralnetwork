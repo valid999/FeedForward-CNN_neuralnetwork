{
  "nbformat": 4,
  "nbformat_minor": 0,
  "metadata": {
    "colab": {
      "provenance": []
    },
    "kernelspec": {
      "name": "python3",
      "display_name": "Python 3"
    },
    "language_info": {
      "name": "python"
    }
  },
  "cells": [
    {
      "cell_type": "code",
      "execution_count": 1,
      "metadata": {
        "colab": {
          "base_uri": "https://localhost:8080/"
        },
        "id": "60ZFaRHs5x49",
        "outputId": "21495fa3-9785-40c0-da21-4bec7bcd8c4c"
      },
      "outputs": [
        {
          "output_type": "stream",
          "name": "stdout",
          "text": [
            "Downloading http://yann.lecun.com/exdb/mnist/train-images-idx3-ubyte.gz\n",
            "Downloading http://yann.lecun.com/exdb/mnist/train-images-idx3-ubyte.gz to ../../data/MNIST/raw/train-images-idx3-ubyte.gz\n"
          ]
        },
        {
          "output_type": "stream",
          "name": "stderr",
          "text": [
            "100%|██████████| 9912422/9912422 [00:00<00:00, 24033578.36it/s]\n"
          ]
        },
        {
          "output_type": "stream",
          "name": "stdout",
          "text": [
            "Extracting ../../data/MNIST/raw/train-images-idx3-ubyte.gz to ../../data/MNIST/raw\n",
            "\n",
            "Downloading http://yann.lecun.com/exdb/mnist/train-labels-idx1-ubyte.gz\n",
            "Downloading http://yann.lecun.com/exdb/mnist/train-labels-idx1-ubyte.gz to ../../data/MNIST/raw/train-labels-idx1-ubyte.gz\n"
          ]
        },
        {
          "output_type": "stream",
          "name": "stderr",
          "text": [
            "100%|██████████| 28881/28881 [00:00<00:00, 48590330.45it/s]\n"
          ]
        },
        {
          "output_type": "stream",
          "name": "stdout",
          "text": [
            "Extracting ../../data/MNIST/raw/train-labels-idx1-ubyte.gz to ../../data/MNIST/raw\n",
            "\n",
            "Downloading http://yann.lecun.com/exdb/mnist/t10k-images-idx3-ubyte.gz\n",
            "Downloading http://yann.lecun.com/exdb/mnist/t10k-images-idx3-ubyte.gz to ../../data/MNIST/raw/t10k-images-idx3-ubyte.gz\n"
          ]
        },
        {
          "output_type": "stream",
          "name": "stderr",
          "text": [
            "100%|██████████| 1648877/1648877 [00:00<00:00, 15049072.14it/s]\n"
          ]
        },
        {
          "output_type": "stream",
          "name": "stdout",
          "text": [
            "Extracting ../../data/MNIST/raw/t10k-images-idx3-ubyte.gz to ../../data/MNIST/raw\n",
            "\n",
            "Downloading http://yann.lecun.com/exdb/mnist/t10k-labels-idx1-ubyte.gz\n",
            "Downloading http://yann.lecun.com/exdb/mnist/t10k-labels-idx1-ubyte.gz to ../../data/MNIST/raw/t10k-labels-idx1-ubyte.gz\n"
          ]
        },
        {
          "output_type": "stream",
          "name": "stderr",
          "text": [
            "100%|██████████| 4542/4542 [00:00<00:00, 14345277.69it/s]\n"
          ]
        },
        {
          "output_type": "stream",
          "name": "stdout",
          "text": [
            "Extracting ../../data/MNIST/raw/t10k-labels-idx1-ubyte.gz to ../../data/MNIST/raw\n",
            "\n",
            "Epoch [1/3] , Step[100/600] , Loss: 0.2321\n",
            "Epoch [1/3] , Step[200/600] , Loss: 0.2399\n",
            "Epoch [1/3] , Step[300/600] , Loss: 0.2224\n",
            "Epoch [1/3] , Step[400/600] , Loss: 0.1135\n",
            "Epoch [1/3] , Step[500/600] , Loss: 0.1595\n",
            "Epoch [1/3] , Step[600/600] , Loss: 0.1099\n",
            "Epoch [2/3] , Step[100/600] , Loss: 0.3101\n",
            "Epoch [2/3] , Step[200/600] , Loss: 0.0860\n",
            "Epoch [2/3] , Step[300/600] , Loss: 0.0564\n",
            "Epoch [2/3] , Step[400/600] , Loss: 0.1257\n",
            "Epoch [2/3] , Step[500/600] , Loss: 0.0982\n",
            "Epoch [2/3] , Step[600/600] , Loss: 0.1546\n",
            "Epoch [3/3] , Step[100/600] , Loss: 0.0366\n",
            "Epoch [3/3] , Step[200/600] , Loss: 0.0661\n",
            "Epoch [3/3] , Step[300/600] , Loss: 0.1675\n",
            "Epoch [3/3] , Step[400/600] , Loss: 0.0439\n",
            "Epoch [3/3] , Step[500/600] , Loss: 0.0667\n",
            "Epoch [3/3] , Step[600/600] , Loss: 0.0317\n"
          ]
        }
      ],
      "source": [
        "import torch\n",
        "import torch.nn as nn\n",
        "import torchvision\n",
        "import torchvision.transforms as transforms\n",
        "import matplotlib.pyplot as plt\n",
        "\n",
        "\n",
        "\n",
        "# Device configration\n",
        "device = torch.device('cuda' if torch.cuda.is_available()  else 'cpu')\n",
        "\n",
        "\n",
        "\n",
        "# Hyper-parameters\n",
        "input_size = 784\n",
        "hidden_size = 500\n",
        "num_classes = 10\n",
        "num_epochs = 3\n",
        "batch_size = 100\n",
        "learning_rate = 0.001\n",
        "\n",
        "\n",
        "# MNIST dataset\n",
        "train_dataset  = torchvision.datasets.MNIST(root = '../../data',\n",
        "                                           train  = True,\n",
        "                                           transform = transforms.ToTensor(),\n",
        "                                           download = True\n",
        "                                           )\n",
        "test_dataset = torchvision.datasets.MNIST(root = '../../data',\n",
        "                                          train = False ,\n",
        "                                          transform =  transforms.ToTensor()\n",
        "                                          )\n",
        "\n",
        "\n",
        "# Data Loader\n",
        "train_loader = torch.utils.data.DataLoader(dataset = train_dataset ,\n",
        "                                           batch_size = batch_size ,\n",
        "\n",
        "                                           shuffle = True\n",
        "\n",
        "                                           )\n",
        "\n",
        "test_loader = torch.utils.data.DataLoader(dataset=test_dataset,\n",
        "                                          batch_size=batch_size,\n",
        "                                          shuffle=False)\n",
        "\n",
        "# Fully connected neural network with one hidden layer\n",
        "# This model iws only a feed forward neural network\n",
        "class NeuralNet(nn.Module):\n",
        "  def __init__(self , input_size , hidden_size , num_classes):\n",
        "    super(NeuralNet , self).__init__()\n",
        "    self.fc1 = nn.Linear(input_size , hidden_size)\n",
        "    self.relu = nn.ReLU()\n",
        "    self.fc2 = nn.Linear(hidden_size , num_classes)\n",
        "\n",
        "\n",
        "\n",
        "\n",
        "  def forward(self , x):\n",
        "    out = self.fc1(x)\n",
        "    out = self.relu(out)\n",
        "    out = self.fc2(out)\n",
        "    return out\n",
        "\n",
        "\n",
        "\n",
        "\n",
        "model = NeuralNet(input_size , hidden_size , num_classes).to(device)\n",
        "\n",
        "# Losss and optimizer\n",
        "criterion = nn.CrossEntropyLoss()\n",
        "optimizer = torch.optim.Adam(model.parameters() , lr = learning_rate)\n",
        "\n",
        "\n",
        "\n",
        "# Train the model\n",
        "# total the model\n",
        "total_step = len(train_loader)\n",
        "for epoch in range(num_epochs):\n",
        "  for i , (image , labels) in enumerate(train_loader):\n",
        "    # Move tensor to the configured device\n",
        "    images = image.reshape(-1 , 28*28).to(device) # Orginal shape ([100 , 1 , 28 , 28])\n",
        "    label = labels.to(device)\n",
        "\n",
        "\n",
        "    # Forward pass\n",
        "    outputs = model(images)\n",
        "    loss = criterion(outputs , label)\n",
        "\n",
        "\n",
        "    # Backward and optimize\n",
        "    optimizer.zero_grad()\n",
        "    loss.backward()\n",
        "    optimizer.step()\n",
        "\n",
        "    if (i+1) % 100 == 0 :\n",
        "      print('Epoch [{}/{}] , Step[{}/{}] , Loss: {:.4f}'.format(epoch+1 , num_epochs , i+1 , total_step , loss.item()))\n",
        "\n",
        "\n"
      ]
    },
    {
      "cell_type": "code",
      "source": [
        "# The orginal shape of the images\n",
        "\n",
        "for i, (images, labels) in enumerate(train_loader):\n",
        "        # Move tensors to the configured device\n",
        "        images = images.shape\n",
        "        print(images)\n",
        "        break"
      ],
      "metadata": {
        "colab": {
          "base_uri": "https://localhost:8080/"
        },
        "id": "ddiTRV_j-3iG",
        "outputId": "d53b6d1d-1a7b-4f89-84ac-b2c1fa86045c"
      },
      "execution_count": 2,
      "outputs": [
        {
          "output_type": "stream",
          "name": "stdout",
          "text": [
            "torch.Size([100, 1, 28, 28])\n"
          ]
        }
      ]
    },
    {
      "cell_type": "code",
      "source": [
        "def show_example(img , label):\n",
        "  plt.show(img.permute(1 , 2 , 0))"
      ],
      "metadata": {
        "id": "2wJ452D7DPOm"
      },
      "execution_count": 3,
      "outputs": []
    },
    {
      "cell_type": "code",
      "source": [
        "with torch.no_grad():\n",
        "  correct = 0\n",
        "  total = 0\n",
        "\n",
        "  for images , labels in test_loader:\n",
        "    images = images.reshape(-1 , 784).to(device)\n",
        "    labels = labels.to(device)\n",
        "    outputs = model(images)\n",
        "    _ , predicted = torch.max(outputs.data , 1)\n",
        "    total += labels.size(0)\n",
        "    correct += (predicted == labels).sum().item()\n",
        "\n",
        "\n",
        "\n",
        "\n",
        "  print('Accuracy of the network on the 10000 test images : {} %'.format(100 * correct / total))\n",
        "\n"
      ],
      "metadata": {
        "colab": {
          "base_uri": "https://localhost:8080/"
        },
        "id": "IPWDiDV--5ps",
        "outputId": "b4a6b532-d9a1-447e-b3e4-b93981f56c2a"
      },
      "execution_count": 4,
      "outputs": [
        {
          "output_type": "stream",
          "name": "stdout",
          "text": [
            "Accuracy of the network on the 10000 test images : 97.51 %\n"
          ]
        }
      ]
    },
    {
      "cell_type": "code",
      "source": [
        "for img_batch , label_batch in train_loader:\n",
        "  print('first batch')\n",
        "  print(img_batch.shape)\n",
        "  plt.imshow(img_batch[0][0] , cmap = 'gray')\n",
        "  print(label_batch)\n",
        "  print(type(img_batch))\n",
        "  break"
      ],
      "metadata": {
        "colab": {
          "base_uri": "https://localhost:8080/",
          "height": 578
        },
        "id": "-JuUH8ivFudw",
        "outputId": "6fb82f9a-7190-42c4-d9ca-3eb8cc70deed"
      },
      "execution_count": 5,
      "outputs": [
        {
          "output_type": "stream",
          "name": "stdout",
          "text": [
            "first batch\n",
            "torch.Size([100, 1, 28, 28])\n",
            "tensor([0, 2, 9, 2, 2, 4, 5, 3, 0, 5, 5, 0, 6, 8, 7, 0, 8, 4, 3, 3, 1, 6, 9, 9,\n",
            "        0, 5, 2, 6, 4, 2, 3, 7, 8, 9, 3, 5, 6, 8, 4, 6, 6, 3, 9, 9, 5, 7, 3, 9,\n",
            "        3, 2, 9, 1, 7, 0, 3, 1, 5, 6, 7, 8, 5, 1, 2, 1, 0, 5, 4, 1, 7, 7, 6, 4,\n",
            "        3, 6, 5, 7, 7, 0, 8, 9, 3, 4, 5, 4, 0, 4, 6, 0, 4, 1, 3, 0, 6, 0, 4, 9,\n",
            "        2, 8, 7, 6])\n",
            "<class 'torch.Tensor'>\n"
          ]
        },
        {
          "output_type": "display_data",
          "data": {
            "text/plain": [
              "<Figure size 640x480 with 1 Axes>"
            ],
            "image/png": "[encoded data removed]"
          },
          "metadata": {}
        }
      ]
    },
    {
      "cell_type": "code",
      "source": [
        "# Save the model checkpoint\n",
        "torch.save(model.state_dict() , 'model.ckpt')"
      ],
      "metadata": {
        "id": "rxWbGriIIfaf"
      },
      "execution_count": 6,
      "outputs": []
    },
    {
      "cell_type": "code",
      "source": [
        "\n",
        "def predict_image(img, model):\n",
        "    xb = img.unsqueeze(0)\n",
        "    yb = model(xb)\n",
        "    _, preds = torch.max(yb, dim=1)\n",
        "    return preds[0].item()"
      ],
      "metadata": {
        "id": "nB3rykfBIoiO"
      },
      "execution_count": 19,
      "outputs": []
    },
    {
      "cell_type": "code",
      "source": [
        "# for img, label in test_loader:\n",
        "\n",
        "#   plt.imshow(img[0][0], cmap='gray')\n",
        "#   print('Label:', label, ', Predicted:', predict_image(img, model))"
      ],
      "metadata": {
        "id": "SyW5E_0cLFVb"
      },
      "execution_count": 35,
      "outputs": []
    }
  ]
}