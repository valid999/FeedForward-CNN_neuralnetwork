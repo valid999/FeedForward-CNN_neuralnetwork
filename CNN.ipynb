{
  "nbformat": 4,
  "nbformat_minor": 0,
  "metadata": {
    "colab": {
      "provenance": [],
      "gpuType": "T4",
      "authorship_tag": "ABX9TyNoX0R+Msjh64Fi3Kb3kdQg",
      "include_colab_link": true
    },
    "kernelspec": {
      "name": "python3",
      "display_name": "Python 3"
    },
    "language_info": {
      "name": "python"
    },
    "accelerator": "GPU"
  },
  "cells": [
    {
      "cell_type": "markdown",
      "metadata": {
        "id": "view-in-github",
        "colab_type": "text"
      },
      "source": [
        "<a href=\"https://colab.research.google.com/github/valid999/FeedForward-CNN_neuralnetwork/blob/main/CNN.ipynb\" target=\"_parent\"><img src=\"https://colab.research.google.com/assets/colab-badge.svg\" alt=\"Open In Colab\"/></a>"
      ]
    },
    {
      "cell_type": "code",
      "execution_count": 5,
      "metadata": {
        "colab": {
          "base_uri": "https://localhost:8080/"
        },
        "id": "60ZFaRHs5x49",
        "outputId": "45dca94c-0120-44ec-e48c-e0dd57f6dcf2"
      },
      "outputs": [
        {
          "output_type": "stream",
          "name": "stdout",
          "text": [
            "Epoch [1/5] , Step[100/600] , Loss: 0.0802\n",
            "Epoch [1/5] , Step[200/600] , Loss: 0.1252\n",
            "Epoch [1/5] , Step[300/600] , Loss: 0.0313\n",
            "Epoch [1/5] , Step[400/600] , Loss: 0.0617\n",
            "Epoch [1/5] , Step[500/600] , Loss: 0.0135\n",
            "Epoch [1/5] , Step[600/600] , Loss: 0.0228\n",
            "Epoch [2/5] , Step[100/600] , Loss: 0.0427\n",
            "Epoch [2/5] , Step[200/600] , Loss: 0.0589\n",
            "Epoch [2/5] , Step[300/600] , Loss: 0.0990\n",
            "Epoch [2/5] , Step[400/600] , Loss: 0.1023\n",
            "Epoch [2/5] , Step[500/600] , Loss: 0.0791\n",
            "Epoch [2/5] , Step[600/600] , Loss: 0.0454\n",
            "Epoch [3/5] , Step[100/600] , Loss: 0.0667\n",
            "Epoch [3/5] , Step[200/600] , Loss: 0.0117\n",
            "Epoch [3/5] , Step[300/600] , Loss: 0.0043\n",
            "Epoch [3/5] , Step[400/600] , Loss: 0.0485\n",
            "Epoch [3/5] , Step[500/600] , Loss: 0.0062\n",
            "Epoch [3/5] , Step[600/600] , Loss: 0.0050\n",
            "Epoch [4/5] , Step[100/600] , Loss: 0.0099\n",
            "Epoch [4/5] , Step[200/600] , Loss: 0.0116\n",
            "Epoch [4/5] , Step[300/600] , Loss: 0.0292\n",
            "Epoch [4/5] , Step[400/600] , Loss: 0.0203\n",
            "Epoch [4/5] , Step[500/600] , Loss: 0.0640\n",
            "Epoch [4/5] , Step[600/600] , Loss: 0.0060\n",
            "Epoch [5/5] , Step[100/600] , Loss: 0.0162\n",
            "Epoch [5/5] , Step[200/600] , Loss: 0.0074\n",
            "Epoch [5/5] , Step[300/600] , Loss: 0.0050\n",
            "Epoch [5/5] , Step[400/600] , Loss: 0.0175\n",
            "Epoch [5/5] , Step[500/600] , Loss: 0.0881\n",
            "Epoch [5/5] , Step[600/600] , Loss: 0.0361\n"
          ]
        }
      ],
      "source": [
        "import torch\n",
        "import torch.nn as nn\n",
        "import torchvision\n",
        "import torchvision.transforms as transforms\n",
        "import matplotlib.pyplot as plt\n",
        "\n",
        "\n",
        "\n",
        "# Device configration\n",
        "device = torch.device('cuda' if torch.cuda.is_available()  else 'cpu')\n",
        "\n",
        "\n",
        "\n",
        "# Hyper-parameters\n",
        "\n",
        "num_classes = 10\n",
        "num_epochs = 5\n",
        "batch_size = 100\n",
        "learning_rate = 0.001\n",
        "\n",
        "\n",
        "# MNIST dataset\n",
        "train_dataset  = torchvision.datasets.MNIST(root = '../../data',\n",
        "                                           train  = True,\n",
        "                                           transform = transforms.ToTensor(),\n",
        "                                           download = True\n",
        "                                           )\n",
        "test_dataset = torchvision.datasets.MNIST(root = '../../data',\n",
        "                                          train = False ,\n",
        "                                          transform =  transforms.ToTensor()\n",
        "                                          )\n",
        "\n",
        "\n",
        "# Data Loader\n",
        "train_loader = torch.utils.data.DataLoader(dataset = train_dataset ,\n",
        "                                           batch_size = batch_size ,\n",
        "\n",
        "                                           shuffle = True\n",
        "\n",
        "                                           )\n",
        "\n",
        "test_loader = torch.utils.data.DataLoader(dataset=test_dataset,\n",
        "                                          batch_size=batch_size,\n",
        "                                          shuffle=False)\n",
        "\n",
        "\n",
        "# Convolutional neural network (two convolutional layer)\n",
        "\n",
        "class ConvNet(nn.Module):\n",
        "  def __init__(self , num_classes = 10):\n",
        "    super(ConvNet , self).__init__()\n",
        "    self.layer1 = nn.Sequential(\n",
        "        nn.Conv2d(1 , 16 , kernel_size = 5 , stride = 1 , padding = 2),\n",
        "        nn.BatchNorm2d(16),\n",
        "        nn.ReLU(),\n",
        "        nn.MaxPool2d(kernel_size = 2 , stride = 2))\n",
        "    self.layer2 = nn.Sequential(\n",
        "        nn.Conv2d(16 , 32 , kernel_size = 5 , stride = 1 , padding = 2),\n",
        "        nn.BatchNorm2d(32),\n",
        "        nn.ReLU(),\n",
        "        nn.MaxPool2d(kernel_size=2 , stride = 2))\n",
        "    self.fc = nn.Linear(7*7*32 , num_classes)\n",
        "\n",
        "\n",
        "\n",
        "  def forward(self , x):\n",
        "    out = self.layer1(x)\n",
        "    out = self.layer2(out)\n",
        "    out = out.reshape(out.size(0) , -1)\n",
        "    out = self.fc(out)\n",
        "    return out\n",
        "\n",
        "\n",
        "\n",
        "\n",
        "model = ConvNet(num_classes).to(device)\n",
        "\n",
        "# Losss and optimizer\n",
        "criterion = nn.CrossEntropyLoss()\n",
        "optimizer = torch.optim.Adam(model.parameters() , lr = learning_rate)\n",
        "\n",
        "\n",
        "\n",
        "# Train the model\n",
        "# total the model\n",
        "total_step = len(train_loader)\n",
        "for epoch in range(num_epochs):\n",
        "  for i , (image , labels) in enumerate(train_loader):\n",
        "    # Move tensor to the configured device\n",
        "    images = image.to(device) # Orginal shape ([100 , 1 , 28 , 28])\n",
        "    labels = labels.to(device)\n",
        "\n",
        "\n",
        "    # Forward pass\n",
        "    outputs = model(images)\n",
        "    loss = criterion(outputs , labels)\n",
        "\n",
        "\n",
        "    # Backward and optimize\n",
        "    optimizer.zero_grad()\n",
        "    loss.backward()\n",
        "    optimizer.step()\n",
        "\n",
        "    if (i+1) % 100 == 0 :\n",
        "      print('Epoch [{}/{}] , Step[{}/{}] , Loss: {:.4f}'.format(epoch+1 , num_epochs , i+1 , total_step , loss.item()))\n",
        "\n",
        "\n"
      ]
    },
    {
      "cell_type": "code",
      "source": [
        "# The orginal shape of the images\n",
        "\n",
        "for i, (images, labels) in enumerate(train_loader):\n",
        "        # Move tensors to the configured device\n",
        "        images = images.shape\n",
        "        print(images)\n",
        "        break"
      ],
      "metadata": {
        "colab": {
          "base_uri": "https://localhost:8080/"
        },
        "id": "ddiTRV_j-3iG",
        "outputId": "fa0d0462-39ce-41d8-9f15-c25c5c816aa2"
      },
      "execution_count": 6,
      "outputs": [
        {
          "output_type": "stream",
          "name": "stdout",
          "text": [
            "torch.Size([100, 1, 28, 28])\n"
          ]
        }
      ]
    },
    {
      "cell_type": "code",
      "source": [
        "def show_example(img , label):\n",
        "  plt.show(img.permute(1 , 2 , 0))"
      ],
      "metadata": {
        "id": "2wJ452D7DPOm"
      },
      "execution_count": 7,
      "outputs": []
    },
    {
      "cell_type": "code",
      "source": [
        "with torch.no_grad():\n",
        "  correct = 0\n",
        "  total = 0\n",
        "\n",
        "  for images , labels in test_loader:\n",
        "    images = image.to(device)\n",
        "    labels = labels.to(device)\n",
        "    outputs = model(images)\n",
        "    _ , predicted = torch.max(outputs.data , 1)\n",
        "    total += labels.size(0)\n",
        "    correct += (predicted == labels).sum().item()\n",
        "\n",
        "\n",
        "\n",
        "\n",
        "  print('Accuracy of the network on the 10000 test images : {} %'.format(100 * correct / total))\n",
        "\n"
      ],
      "metadata": {
        "colab": {
          "base_uri": "https://localhost:8080/"
        },
        "id": "IPWDiDV--5ps",
        "outputId": "1b18bb07-74be-4a6f-8317-399f33584513"
      },
      "execution_count": 11,
      "outputs": [
        {
          "output_type": "stream",
          "name": "stdout",
          "text": [
            "Accuracy of the network on the 10000 test images : 10.16 %\n"
          ]
        }
      ]
    },
    {
      "cell_type": "code",
      "source": [
        "for img_batch , label_batch in train_loader:\n",
        "  print('first batch')\n",
        "  print(img_batch.shape)\n",
        "  plt.imshow(img_batch[0][0] , cmap = 'gray')\n",
        "  print(label_batch)\n",
        "  print(type(img_batch))\n",
        "  break"
      ],
      "metadata": {
        "colab": {
          "base_uri": "https://localhost:8080/",
          "height": 578
        },
        "id": "-JuUH8ivFudw",
        "outputId": "1808ef3e-68c9-401b-b6c1-2e2b9087acc7"
      },
      "execution_count": 12,
      "outputs": [
        {
          "output_type": "stream",
          "name": "stdout",
          "text": [
            "first batch\n",
            "torch.Size([100, 1, 28, 28])\n",
            "tensor([7, 6, 4, 0, 1, 7, 7, 4, 7, 7, 0, 4, 3, 3, 5, 3, 3, 9, 5, 4, 7, 3, 5, 0,\n",
            "        9, 5, 0, 3, 1, 2, 6, 0, 9, 0, 3, 8, 2, 9, 4, 0, 9, 4, 9, 4, 6, 1, 0, 8,\n",
            "        7, 5, 6, 3, 6, 1, 3, 8, 2, 9, 0, 2, 2, 4, 5, 6, 4, 7, 1, 6, 9, 7, 7, 5,\n",
            "        7, 1, 1, 7, 8, 5, 3, 8, 2, 8, 2, 5, 8, 9, 1, 7, 0, 3, 9, 1, 7, 1, 4, 4,\n",
            "        7, 1, 7, 6])\n",
            "<class 'torch.Tensor'>\n"
          ]
        },
        {
          "output_type": "display_data",
          "data": {
            "text/plain": [
              "<Figure size 640x480 with 1 Axes>"
            ],
            "image/png": "[encoded data removed]"
          },
          "metadata": {}
        }
      ]
    },
    {
      "cell_type": "code",
      "source": [
        "# Save the model checkpoint\n",
        "torch.save(model.state_dict() , 'model.ckpt')"
      ],
      "metadata": {
        "id": "rxWbGriIIfaf"
      },
      "execution_count": 13,
      "outputs": []
    },
    {
      "cell_type": "code",
      "source": [
        "\n",
        "def predict_image(img, model):\n",
        "    xb = img.unsqueeze(0)\n",
        "    yb = model(xb)\n",
        "    _, preds = torch.max(yb, dim=1)\n",
        "    return preds[0].item()"
      ],
      "metadata": {
        "id": "nB3rykfBIoiO"
      },
      "execution_count": 14,
      "outputs": []
    },
    {
      "cell_type": "code",
      "source": [
        "# for img, label in test_loader:\n",
        "\n",
        "#   plt.imshow(img[0][0], cmap='gray')\n",
        "#   print('Label:', label, ', Predicted:', predict_image(img, model))"
      ],
      "metadata": {
        "id": "SyW5E_0cLFVb"
      },
      "execution_count": null,
      "outputs": []
    }
  ]
}